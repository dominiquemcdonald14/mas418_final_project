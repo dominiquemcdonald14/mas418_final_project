{
 "cells": [
  {
   "cell_type": "code",
   "execution_count": 1,
   "id": "a7b7c054",
   "metadata": {},
   "outputs": [],
   "source": [
    "%matplotlib inline\n",
    "import matplotlib\n",
    "import matplotlib.pyplot as plt\n",
    "import seaborn as sns\n",
    "import numpy as np\n",
    "import pandas as pd\n",
    "import statistics"
   ]
  },
  {
   "cell_type": "code",
   "execution_count": 2,
   "id": "3b757cf5",
   "metadata": {},
   "outputs": [
    {
     "data": {
      "text/html": [
       "<div>\n",
       "<style scoped>\n",
       "    .dataframe tbody tr th:only-of-type {\n",
       "        vertical-align: middle;\n",
       "    }\n",
       "\n",
       "    .dataframe tbody tr th {\n",
       "        vertical-align: top;\n",
       "    }\n",
       "\n",
       "    .dataframe thead th {\n",
       "        text-align: right;\n",
       "    }\n",
       "</style>\n",
       "<table border=\"1\" class=\"dataframe\">\n",
       "  <thead>\n",
       "    <tr style=\"text-align: right;\">\n",
       "      <th></th>\n",
       "      <th>Unnamed: 0</th>\n",
       "      <th>companyName</th>\n",
       "      <th>company_starRating</th>\n",
       "      <th>company_offeredRole</th>\n",
       "      <th>company_roleLocation</th>\n",
       "      <th>company_salary</th>\n",
       "      <th>listing_jobDesc</th>\n",
       "      <th>requested_url</th>\n",
       "      <th>salary</th>\n",
       "      <th>role</th>\n",
       "      <th>location</th>\n",
       "      <th>R</th>\n",
       "      <th>Python</th>\n",
       "      <th>SQL</th>\n",
       "    </tr>\n",
       "  </thead>\n",
       "  <tbody>\n",
       "    <tr>\n",
       "      <th>0</th>\n",
       "      <td>1</td>\n",
       "      <td>Infineon Technologies</td>\n",
       "      <td>4.2</td>\n",
       "      <td>Data Scientist</td>\n",
       "      <td>Lexington, KY</td>\n",
       "      <td>$75K - $114K (Glassdoor est.)</td>\n",
       "      <td>Formulate and perform multifaceted analytic st...</td>\n",
       "      <td>https://www.glassdoor.com/partner/jobListing.h...</td>\n",
       "      <td>94.5</td>\n",
       "      <td>Data Scientist</td>\n",
       "      <td>KY</td>\n",
       "      <td>0</td>\n",
       "      <td>0</td>\n",
       "      <td>0</td>\n",
       "    </tr>\n",
       "    <tr>\n",
       "      <th>1</th>\n",
       "      <td>2</td>\n",
       "      <td>Guidehouse</td>\n",
       "      <td>3.8</td>\n",
       "      <td>Data Analytics Consultant</td>\n",
       "      <td>Springfield, VA</td>\n",
       "      <td>$75K - $106K (Glassdoor est.)</td>\n",
       "      <td>\\nAssess data and analytics capabilities and i...</td>\n",
       "      <td>https://www.glassdoor.com/partner/jobListing.h...</td>\n",
       "      <td>90.5</td>\n",
       "      <td>Data Analyst</td>\n",
       "      <td>VA</td>\n",
       "      <td>1</td>\n",
       "      <td>1</td>\n",
       "      <td>1</td>\n",
       "    </tr>\n",
       "    <tr>\n",
       "      <th>2</th>\n",
       "      <td>3</td>\n",
       "      <td>UnitedHealth Group</td>\n",
       "      <td>3.6</td>\n",
       "      <td>Senior Principal Applied Scientist - Telecommute</td>\n",
       "      <td>Bellevue, WA</td>\n",
       "      <td>$120K - $165K (Glassdoor est.)</td>\n",
       "      <td>\\nHelp design and develop the next generation ...</td>\n",
       "      <td>https://www.glassdoor.com/partner/jobListing.h...</td>\n",
       "      <td>142.5</td>\n",
       "      <td>Machine Learning</td>\n",
       "      <td>WA</td>\n",
       "      <td>1</td>\n",
       "      <td>0</td>\n",
       "      <td>0</td>\n",
       "    </tr>\n",
       "    <tr>\n",
       "      <th>3</th>\n",
       "      <td>4</td>\n",
       "      <td>Booz Allen Hamilton</td>\n",
       "      <td>4.2</td>\n",
       "      <td>Data Engineer, Mid</td>\n",
       "      <td>Stennis Space Center, MS</td>\n",
       "      <td>Employer est.:$58K - $133K</td>\n",
       "      <td>\\n5+ years of experience with data or informat...</td>\n",
       "      <td>https://www.glassdoor.com/partner/jobListing.h...</td>\n",
       "      <td>95.5</td>\n",
       "      <td>Data Engineer</td>\n",
       "      <td>MS</td>\n",
       "      <td>0</td>\n",
       "      <td>0</td>\n",
       "      <td>0</td>\n",
       "    </tr>\n",
       "    <tr>\n",
       "      <th>4</th>\n",
       "      <td>5</td>\n",
       "      <td>Topaz Labs</td>\n",
       "      <td>3.4</td>\n",
       "      <td>Senior Software Engineer, AI / Core Optimization</td>\n",
       "      <td>Dallas, TX</td>\n",
       "      <td>$82K - $129K (Glassdoor est.)</td>\n",
       "      <td>Hands-on experience with performance optimizat...</td>\n",
       "      <td>https://www.glassdoor.com/partner/jobListing.h...</td>\n",
       "      <td>105.5</td>\n",
       "      <td>Others</td>\n",
       "      <td>TX</td>\n",
       "      <td>1</td>\n",
       "      <td>0</td>\n",
       "      <td>0</td>\n",
       "    </tr>\n",
       "  </tbody>\n",
       "</table>\n",
       "</div>"
      ],
      "text/plain": [
       "   Unnamed: 0            companyName  company_starRating  \\\n",
       "0           1  Infineon Technologies                 4.2   \n",
       "1           2             Guidehouse                 3.8   \n",
       "2           3     UnitedHealth Group                 3.6   \n",
       "3           4    Booz Allen Hamilton                 4.2   \n",
       "4           5             Topaz Labs                 3.4   \n",
       "\n",
       "                                company_offeredRole      company_roleLocation  \\\n",
       "0                                    Data Scientist             Lexington, KY   \n",
       "1                         Data Analytics Consultant           Springfield, VA   \n",
       "2  Senior Principal Applied Scientist - Telecommute              Bellevue, WA   \n",
       "3                                Data Engineer, Mid  Stennis Space Center, MS   \n",
       "4  Senior Software Engineer, AI / Core Optimization                Dallas, TX   \n",
       "\n",
       "                   company_salary  \\\n",
       "0   $75K - $114K (Glassdoor est.)   \n",
       "1   $75K - $106K (Glassdoor est.)   \n",
       "2  $120K - $165K (Glassdoor est.)   \n",
       "3     Employer est.:$58K - $133K    \n",
       "4   $82K - $129K (Glassdoor est.)   \n",
       "\n",
       "                                     listing_jobDesc  \\\n",
       "0  Formulate and perform multifaceted analytic st...   \n",
       "1  \\nAssess data and analytics capabilities and i...   \n",
       "2  \\nHelp design and develop the next generation ...   \n",
       "3  \\n5+ years of experience with data or informat...   \n",
       "4  Hands-on experience with performance optimizat...   \n",
       "\n",
       "                                       requested_url  salary  \\\n",
       "0  https://www.glassdoor.com/partner/jobListing.h...    94.5   \n",
       "1  https://www.glassdoor.com/partner/jobListing.h...    90.5   \n",
       "2  https://www.glassdoor.com/partner/jobListing.h...   142.5   \n",
       "3  https://www.glassdoor.com/partner/jobListing.h...    95.5   \n",
       "4  https://www.glassdoor.com/partner/jobListing.h...   105.5   \n",
       "\n",
       "               role location  R  Python  SQL  \n",
       "0    Data Scientist       KY  0       0    0  \n",
       "1      Data Analyst       VA  1       1    1  \n",
       "2  Machine Learning       WA  1       0    0  \n",
       "3     Data Engineer       MS  0       0    0  \n",
       "4            Others       TX  1       0    0  "
      ]
     },
     "execution_count": 2,
     "metadata": {},
     "output_type": "execute_result"
    }
   ],
   "source": [
    "df = pd.read_csv('salary.csv', encoding='cp1252')\n",
    "df.head()"
   ]
  },
  {
   "cell_type": "code",
   "execution_count": 3,
   "id": "29e0da51",
   "metadata": {},
   "outputs": [],
   "source": [
    "data = df['salary']"
   ]
  },
  {
   "cell_type": "code",
   "execution_count": 4,
   "id": "bf1a875a",
   "metadata": {},
   "outputs": [
    {
     "data": {
      "text/plain": [
       "<AxesSubplot:ylabel='Density'>"
      ]
     },
     "execution_count": 4,
     "metadata": {},
     "output_type": "execute_result"
    },
    {
     "data": {
      "image/png": "[encoded data removed]",
      "text/plain": [
       "<Figure size 432x288 with 1 Axes>"
      ]
     },
     "metadata": {},
     "output_type": "display_data"
    }
   ],
   "source": [
    "sns.set_style('whitegrid')\n",
    "sns.kdeplot(np.array(data), bw_method=0.5)"
   ]
  },
  {
   "cell_type": "code",
   "execution_count": 26,
   "id": "8e7f457c",
   "metadata": {},
   "outputs": [
    {
     "data": {
      "text/plain": [
       "111.0"
      ]
     },
     "execution_count": 26,
     "metadata": {},
     "output_type": "execute_result"
    }
   ],
   "source": [
    "statistics.median(data) # Note that it's k"
   ]
  },
  {
   "cell_type": "markdown",
   "id": "c9eae6a9",
   "metadata": {},
   "source": [
    "### Salary by Role"
   ]
  },
  {
   "cell_type": "code",
   "execution_count": 41,
   "id": "785f2521",
   "metadata": {},
   "outputs": [
    {
     "data": {
      "text/html": [
       "<div>\n",
       "<style scoped>\n",
       "    .dataframe tbody tr th:only-of-type {\n",
       "        vertical-align: middle;\n",
       "    }\n",
       "\n",
       "    .dataframe tbody tr th {\n",
       "        vertical-align: top;\n",
       "    }\n",
       "\n",
       "    .dataframe thead th {\n",
       "        text-align: right;\n",
       "    }\n",
       "</style>\n",
       "<table border=\"1\" class=\"dataframe\">\n",
       "  <thead>\n",
       "    <tr style=\"text-align: right;\">\n",
       "      <th></th>\n",
       "      <th>salary</th>\n",
       "    </tr>\n",
       "    <tr>\n",
       "      <th>role</th>\n",
       "      <th></th>\n",
       "    </tr>\n",
       "  </thead>\n",
       "  <tbody>\n",
       "    <tr>\n",
       "      <th>Applied Scientist</th>\n",
       "      <td>142.50</td>\n",
       "    </tr>\n",
       "    <tr>\n",
       "      <th>Data Analyst</th>\n",
       "      <td>97.50</td>\n",
       "    </tr>\n",
       "    <tr>\n",
       "      <th>Data Engineer</th>\n",
       "      <td>95.50</td>\n",
       "    </tr>\n",
       "    <tr>\n",
       "      <th>Data Scientist</th>\n",
       "      <td>125.50</td>\n",
       "    </tr>\n",
       "    <tr>\n",
       "      <th>Machine Learning</th>\n",
       "      <td>110.25</td>\n",
       "    </tr>\n",
       "    <tr>\n",
       "      <th>Others</th>\n",
       "      <td>105.50</td>\n",
       "    </tr>\n",
       "  </tbody>\n",
       "</table>\n",
       "</div>"
      ],
      "text/plain": [
       "                   salary\n",
       "role                     \n",
       "Applied Scientist  142.50\n",
       "Data Analyst        97.50\n",
       "Data Engineer       95.50\n",
       "Data Scientist     125.50\n",
       "Machine Learning   110.25\n",
       "Others             105.50"
      ]
     },
     "execution_count": 41,
     "metadata": {},
     "output_type": "execute_result"
    }
   ],
   "source": [
    "# Medium Salary by Role\n",
    "df[['salary','role']].groupby('role').median()"
   ]
  },
  {
   "cell_type": "code",
   "execution_count": 42,
   "id": "502ea55a",
   "metadata": {},
   "outputs": [
    {
     "name": "stderr",
     "output_type": "stream",
     "text": [
      "/Users/tixradmin/opt/anaconda3/lib/python3.9/site-packages/seaborn/distributions.py:316: UserWarning: Dataset has 0 variance; skipping density estimate. Pass `warn_singular=False` to disable this warning.\n",
      "  warnings.warn(msg, UserWarning)\n"
     ]
    },
    {
     "data": {
      "text/plain": [
       "<AxesSubplot:xlabel='salary', ylabel='Density'>"
      ]
     },
     "execution_count": 42,
     "metadata": {},
     "output_type": "execute_result"
    },
    {
     "data": {
      "image/png": "[encoded data removed]",
      "text/plain": [
       "<Figure size 432x288 with 1 Axes>"
      ]
     },
     "metadata": {},
     "output_type": "display_data"
    }
   ],
   "source": [
    "sns.kdeplot(data = df[['salary','role']], x = \"salary\", hue = \"role\", fill = True, common_norm = False, alpha = 0.4)"
   ]
  },
  {
   "cell_type": "markdown",
   "id": "d3af600f",
   "metadata": {},
   "source": [
    "### Salary by Location"
   ]
  },
  {
   "cell_type": "code",
   "execution_count": 11,
   "id": "6a242b32",
   "metadata": {},
   "outputs": [
    {
     "data": {
      "text/plain": [
       "location\n",
       "VA        150\n",
       "MD         76\n",
       "GA         60\n",
       "KY         60\n",
       "TX         48\n",
       "ME         44\n",
       "Remote     44\n",
       "MS         30\n",
       "WA         30\n",
       "OH         30\n",
       "WI         30\n",
       "DC         30\n",
       "MA         30\n",
       "IL         30\n",
       "FL         30\n",
       "MN         16\n",
       "AL         16\n",
       "IA         14\n",
       "dtype: int64"
      ]
     },
     "execution_count": 11,
     "metadata": {},
     "output_type": "execute_result"
    }
   ],
   "source": [
    "df[['location']].groupby('location').value_counts().sort_values(ascending = False)"
   ]
  },
  {
   "cell_type": "code",
   "execution_count": null,
   "id": "cdf6c3e0",
   "metadata": {},
   "outputs": [],
   "source": [
    "# VA, MD, GA, KY, Remote"
   ]
  },
  {
   "cell_type": "code",
   "execution_count": 14,
   "id": "d8876136",
   "metadata": {},
   "outputs": [
    {
     "data": {
      "text/html": [
       "<div>\n",
       "<style scoped>\n",
       "    .dataframe tbody tr th:only-of-type {\n",
       "        vertical-align: middle;\n",
       "    }\n",
       "\n",
       "    .dataframe tbody tr th {\n",
       "        vertical-align: top;\n",
       "    }\n",
       "\n",
       "    .dataframe thead th {\n",
       "        text-align: right;\n",
       "    }\n",
       "</style>\n",
       "<table border=\"1\" class=\"dataframe\">\n",
       "  <thead>\n",
       "    <tr style=\"text-align: right;\">\n",
       "      <th></th>\n",
       "      <th>location</th>\n",
       "    </tr>\n",
       "  </thead>\n",
       "  <tbody>\n",
       "    <tr>\n",
       "      <th>0</th>\n",
       "      <td>False</td>\n",
       "    </tr>\n",
       "    <tr>\n",
       "      <th>1</th>\n",
       "      <td>True</td>\n",
       "    </tr>\n",
       "    <tr>\n",
       "      <th>2</th>\n",
       "      <td>False</td>\n",
       "    </tr>\n",
       "    <tr>\n",
       "      <th>3</th>\n",
       "      <td>False</td>\n",
       "    </tr>\n",
       "    <tr>\n",
       "      <th>4</th>\n",
       "      <td>False</td>\n",
       "    </tr>\n",
       "    <tr>\n",
       "      <th>...</th>\n",
       "      <td>...</td>\n",
       "    </tr>\n",
       "    <tr>\n",
       "      <th>763</th>\n",
       "      <td>False</td>\n",
       "    </tr>\n",
       "    <tr>\n",
       "      <th>764</th>\n",
       "      <td>False</td>\n",
       "    </tr>\n",
       "    <tr>\n",
       "      <th>765</th>\n",
       "      <td>False</td>\n",
       "    </tr>\n",
       "    <tr>\n",
       "      <th>766</th>\n",
       "      <td>False</td>\n",
       "    </tr>\n",
       "    <tr>\n",
       "      <th>767</th>\n",
       "      <td>False</td>\n",
       "    </tr>\n",
       "  </tbody>\n",
       "</table>\n",
       "<p>768 rows × 1 columns</p>\n",
       "</div>"
      ],
      "text/plain": [
       "     location\n",
       "0       False\n",
       "1        True\n",
       "2       False\n",
       "3       False\n",
       "4       False\n",
       "..        ...\n",
       "763     False\n",
       "764     False\n",
       "765     False\n",
       "766     False\n",
       "767     False\n",
       "\n",
       "[768 rows x 1 columns]"
      ]
     },
     "execution_count": 14,
     "metadata": {},
     "output_type": "execute_result"
    }
   ],
   "source": [
    "df[['location']] == \"VA\""
   ]
  },
  {
   "cell_type": "code",
   "execution_count": null,
   "id": "b0550619",
   "metadata": {},
   "outputs": [],
   "source": []
  },
  {
   "cell_type": "code",
   "execution_count": null,
   "id": "0c42fb99",
   "metadata": {},
   "outputs": [],
   "source": []
  }
 ],
 "metadata": {
  "kernelspec": {
   "display_name": "Python 3 (ipykernel)",
   "language": "python",
   "name": "python3"
  },
  "language_info": {
   "codemirror_mode": {
    "name": "ipython",
    "version": 3
   },
   "file_extension": ".py",
   "mimetype": "text/x-python",
   "name": "python",
   "nbconvert_exporter": "python",
   "pygments_lexer": "ipython3",
   "version": "3.9.12"
  }
 },
 "nbformat": 4,
 "nbformat_minor": 5
}
