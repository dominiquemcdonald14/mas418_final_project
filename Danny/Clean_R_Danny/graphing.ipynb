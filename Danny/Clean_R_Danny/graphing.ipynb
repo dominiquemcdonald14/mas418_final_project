{
 "cells": [
  {
   "cell_type": "code",
   "execution_count": 2,
   "id": "a7b7c054",
   "metadata": {},
   "outputs": [],
   "source": [
    "%matplotlib inline\n",
    "import matplotlib\n",
    "import matplotlib.pyplot as plt\n",
    "import seaborn as sns\n",
    "import numpy as np\n",
    "import pandas as pd\n",
    "import statistics"
   ]
  },
  {
   "cell_type": "code",
   "execution_count": 3,
   "id": "3b757cf5",
   "metadata": {},
   "outputs": [
    {
     "data": {
      "text/html": [
       "<div>\n",
       "<style scoped>\n",
       "    .dataframe tbody tr th:only-of-type {\n",
       "        vertical-align: middle;\n",
       "    }\n",
       "\n",
       "    .dataframe tbody tr th {\n",
       "        vertical-align: top;\n",
       "    }\n",
       "\n",
       "    .dataframe thead th {\n",
       "        text-align: right;\n",
       "    }\n",
       "</style>\n",
       "<table border=\"1\" class=\"dataframe\">\n",
       "  <thead>\n",
       "    <tr style=\"text-align: right;\">\n",
       "      <th></th>\n",
       "      <th>Unnamed: 0</th>\n",
       "      <th>companyName</th>\n",
       "      <th>company_starRating</th>\n",
       "      <th>company_offeredRole</th>\n",
       "      <th>company_roleLocation</th>\n",
       "      <th>company_salary</th>\n",
       "      <th>listing_jobDesc</th>\n",
       "      <th>salary</th>\n",
       "      <th>role</th>\n",
       "      <th>location</th>\n",
       "      <th>R</th>\n",
       "      <th>Python</th>\n",
       "      <th>SQL</th>\n",
       "    </tr>\n",
       "  </thead>\n",
       "  <tbody>\n",
       "    <tr>\n",
       "      <th>0</th>\n",
       "      <td>1</td>\n",
       "      <td>Kum &amp; Go</td>\n",
       "      <td>3.4</td>\n",
       "      <td>Senior Data Analyst</td>\n",
       "      <td>Des Moines, IA</td>\n",
       "      <td>$59K - $84K (Glassdoor est.)</td>\n",
       "      <td>Apply business, analytic, and technical knowle...</td>\n",
       "      <td>71.5</td>\n",
       "      <td>Data Analyst</td>\n",
       "      <td>IA</td>\n",
       "      <td>1</td>\n",
       "      <td>1</td>\n",
       "      <td>1</td>\n",
       "    </tr>\n",
       "    <tr>\n",
       "      <th>1</th>\n",
       "      <td>2</td>\n",
       "      <td>Beam Inc.</td>\n",
       "      <td>3.8</td>\n",
       "      <td>Data Scientist - Supply Planning</td>\n",
       "      <td>Chicago, IL</td>\n",
       "      <td>$84K - $120K (Glassdoor est.)</td>\n",
       "      <td>Partner with Global S&amp;OP functional areas (Sup...</td>\n",
       "      <td>102.0</td>\n",
       "      <td>Data Scientist</td>\n",
       "      <td>IL</td>\n",
       "      <td>1</td>\n",
       "      <td>1</td>\n",
       "      <td>1</td>\n",
       "    </tr>\n",
       "    <tr>\n",
       "      <th>2</th>\n",
       "      <td>3</td>\n",
       "      <td>Utah State University</td>\n",
       "      <td>4.2</td>\n",
       "      <td>Data Scientist</td>\n",
       "      <td>Logan, UT</td>\n",
       "      <td>$71K - $108K (Glassdoor est.)</td>\n",
       "      <td>\\nClean and transform, data in preparation for...</td>\n",
       "      <td>89.5</td>\n",
       "      <td>Data Scientist</td>\n",
       "      <td>UT</td>\n",
       "      <td>1</td>\n",
       "      <td>1</td>\n",
       "      <td>0</td>\n",
       "    </tr>\n",
       "    <tr>\n",
       "      <th>3</th>\n",
       "      <td>4</td>\n",
       "      <td>Prime Connected</td>\n",
       "      <td>2.0</td>\n",
       "      <td>Telecommunications System Technician (Data)</td>\n",
       "      <td>Providence, RI</td>\n",
       "      <td>Employer est.:$20.00 - $30.00 Per Hour</td>\n",
       "      <td>Rhode Island Telecommunications System Technic...</td>\n",
       "      <td>20.0</td>\n",
       "      <td>Others</td>\n",
       "      <td>RI</td>\n",
       "      <td>1</td>\n",
       "      <td>0</td>\n",
       "      <td>0</td>\n",
       "    </tr>\n",
       "    <tr>\n",
       "      <th>4</th>\n",
       "      <td>5</td>\n",
       "      <td>Bloomberg Industry Group</td>\n",
       "      <td>3.6</td>\n",
       "      <td>Data Scientist</td>\n",
       "      <td>Washington, DC</td>\n",
       "      <td>Employer est.:$110K - $130K</td>\n",
       "      <td>Proactively explore, research, describe, and a...</td>\n",
       "      <td>120.0</td>\n",
       "      <td>Data Scientist</td>\n",
       "      <td>DC</td>\n",
       "      <td>1</td>\n",
       "      <td>1</td>\n",
       "      <td>1</td>\n",
       "    </tr>\n",
       "  </tbody>\n",
       "</table>\n",
       "</div>"
      ],
      "text/plain": [
       "   Unnamed: 0               companyName  company_starRating  \\\n",
       "0           1                  Kum & Go                 3.4   \n",
       "1           2                 Beam Inc.                 3.8   \n",
       "2           3     Utah State University                 4.2   \n",
       "3           4           Prime Connected                 2.0   \n",
       "4           5  Bloomberg Industry Group                 3.6   \n",
       "\n",
       "                           company_offeredRole company_roleLocation  \\\n",
       "0                          Senior Data Analyst       Des Moines, IA   \n",
       "1             Data Scientist - Supply Planning          Chicago, IL   \n",
       "2                               Data Scientist            Logan, UT   \n",
       "3  Telecommunications System Technician (Data)       Providence, RI   \n",
       "4                               Data Scientist       Washington, DC   \n",
       "\n",
       "                           company_salary  \\\n",
       "0            $59K - $84K (Glassdoor est.)   \n",
       "1           $84K - $120K (Glassdoor est.)   \n",
       "2           $71K - $108K (Glassdoor est.)   \n",
       "3  Employer est.:$20.00 - $30.00 Per Hour   \n",
       "4            Employer est.:$110K - $130K    \n",
       "\n",
       "                                     listing_jobDesc  salary            role  \\\n",
       "0  Apply business, analytic, and technical knowle...    71.5    Data Analyst   \n",
       "1  Partner with Global S&OP functional areas (Sup...   102.0  Data Scientist   \n",
       "2  \\nClean and transform, data in preparation for...    89.5  Data Scientist   \n",
       "3  Rhode Island Telecommunications System Technic...    20.0          Others   \n",
       "4  Proactively explore, research, describe, and a...   120.0  Data Scientist   \n",
       "\n",
       "  location  R  Python  SQL  \n",
       "0       IA  1       1    1  \n",
       "1       IL  1       1    1  \n",
       "2       UT  1       1    0  \n",
       "3       RI  1       0    0  \n",
       "4       DC  1       1    1  "
      ]
     },
     "execution_count": 3,
     "metadata": {},
     "output_type": "execute_result"
    }
   ],
   "source": [
    "df = pd.read_csv('salary.csv', encoding='utf8')\n",
    "df.head()"
   ]
  },
  {
   "cell_type": "code",
   "execution_count": 4,
   "id": "29e0da51",
   "metadata": {},
   "outputs": [],
   "source": [
    "data = df['salary']"
   ]
  },
  {
   "cell_type": "code",
   "execution_count": 7,
   "id": "bf1a875a",
   "metadata": {},
   "outputs": [
    {
     "data": {
      "text/plain": [
       "[Text(0.5, 1.0, 'Data Scientist Salary Density'), Text(0.5, 0, 'Salary(k)')]"
      ]
     },
     "execution_count": 7,
     "metadata": {},
     "output_type": "execute_result"
    },
    {
     "data": {
      "image/png": "[encoded data removed]",
      "text/plain": [
       "<Figure size 432x288 with 1 Axes>"
      ]
     },
     "metadata": {},
     "output_type": "display_data"
    }
   ],
   "source": [
    "sns.set_style('whitegrid')\n",
    "sns.kdeplot(np.array(data), bw_method=0.5).set(title=\"Data Scientist Salary Density\",xlabel='Salary(k)')"
   ]
  },
  {
   "cell_type": "code",
   "execution_count": 56,
   "id": "8e7f457c",
   "metadata": {},
   "outputs": [
    {
     "data": {
      "text/plain": [
       "102.5"
      ]
     },
     "execution_count": 56,
     "metadata": {},
     "output_type": "execute_result"
    }
   ],
   "source": [
    "statistics.median(data) # Note that it's k"
   ]
  },
  {
   "cell_type": "markdown",
   "id": "c9eae6a9",
   "metadata": {},
   "source": [
    "### Median Salary by Job Title\n",
    "\n",
    "Should display a dataframe and a graph."
   ]
  },
  {
   "cell_type": "code",
   "execution_count": 57,
   "id": "785f2521",
   "metadata": {},
   "outputs": [
    {
     "data": {
      "text/html": [
       "<div>\n",
       "<style scoped>\n",
       "    .dataframe tbody tr th:only-of-type {\n",
       "        vertical-align: middle;\n",
       "    }\n",
       "\n",
       "    .dataframe tbody tr th {\n",
       "        vertical-align: top;\n",
       "    }\n",
       "\n",
       "    .dataframe thead th {\n",
       "        text-align: right;\n",
       "    }\n",
       "</style>\n",
       "<table border=\"1\" class=\"dataframe\">\n",
       "  <thead>\n",
       "    <tr style=\"text-align: right;\">\n",
       "      <th></th>\n",
       "      <th>salary</th>\n",
       "    </tr>\n",
       "    <tr>\n",
       "      <th>role</th>\n",
       "      <th></th>\n",
       "    </tr>\n",
       "  </thead>\n",
       "  <tbody>\n",
       "    <tr>\n",
       "      <th>Data Analyst</th>\n",
       "      <td>101.0</td>\n",
       "    </tr>\n",
       "    <tr>\n",
       "      <th>Data Engineer</th>\n",
       "      <td>100.0</td>\n",
       "    </tr>\n",
       "    <tr>\n",
       "      <th>Data Scientist</th>\n",
       "      <td>109.0</td>\n",
       "    </tr>\n",
       "    <tr>\n",
       "      <th>Machine Learning</th>\n",
       "      <td>69.0</td>\n",
       "    </tr>\n",
       "    <tr>\n",
       "      <th>Others</th>\n",
       "      <td>20.0</td>\n",
       "    </tr>\n",
       "  </tbody>\n",
       "</table>\n",
       "</div>"
      ],
      "text/plain": [
       "                  salary\n",
       "role                    \n",
       "Data Analyst       101.0\n",
       "Data Engineer      100.0\n",
       "Data Scientist     109.0\n",
       "Machine Learning    69.0\n",
       "Others              20.0"
      ]
     },
     "execution_count": 57,
     "metadata": {},
     "output_type": "execute_result"
    }
   ],
   "source": [
    "# Medium Salary by Role\n",
    "df[['salary','role']].groupby('role').median()"
   ]
  },
  {
   "cell_type": "code",
   "execution_count": 8,
   "id": "502ea55a",
   "metadata": {},
   "outputs": [
    {
     "name": "stderr",
     "output_type": "stream",
     "text": [
      "/Users/tixradmin/opt/anaconda3/lib/python3.9/site-packages/seaborn/distributions.py:316: UserWarning: Dataset has 0 variance; skipping density estimate. Pass `warn_singular=False` to disable this warning.\n",
      "  warnings.warn(msg, UserWarning)\n"
     ]
    },
    {
     "data": {
      "text/plain": [
       "[Text(0.5, 1.0, 'Data Scientist Salary by Role'), Text(0.5, 0, 'Salary(k)')]"
      ]
     },
     "execution_count": 8,
     "metadata": {},
     "output_type": "execute_result"
    },
    {
     "data": {
      "image/png": "[encoded data removed]",
      "text/plain": [
       "<Figure size 432x288 with 1 Axes>"
      ]
     },
     "metadata": {},
     "output_type": "display_data"
    }
   ],
   "source": [
    "sns.kdeplot(data = df[['salary','role']], x = \"salary\", hue = \"role\", fill = True, common_norm = False, alpha = 0.4).set(title=\"Data Scientist Salary by Role\",xlabel='Salary(k)')"
   ]
  },
  {
   "cell_type": "markdown",
   "id": "d3af600f",
   "metadata": {},
   "source": [
    "### Median Salary by Location\n",
    "\n",
    "Top 5 highest paid location"
   ]
  },
  {
   "cell_type": "code",
   "execution_count": 10,
   "id": "3433b1dc",
   "metadata": {},
   "outputs": [
    {
     "data": {
      "text/html": [
       "<div>\n",
       "<style scoped>\n",
       "    .dataframe tbody tr th:only-of-type {\n",
       "        vertical-align: middle;\n",
       "    }\n",
       "\n",
       "    .dataframe tbody tr th {\n",
       "        vertical-align: top;\n",
       "    }\n",
       "\n",
       "    .dataframe thead th {\n",
       "        text-align: right;\n",
       "    }\n",
       "</style>\n",
       "<table border=\"1\" class=\"dataframe\">\n",
       "  <thead>\n",
       "    <tr style=\"text-align: right;\">\n",
       "      <th></th>\n",
       "      <th>salary</th>\n",
       "    </tr>\n",
       "    <tr>\n",
       "      <th>location</th>\n",
       "      <th></th>\n",
       "    </tr>\n",
       "  </thead>\n",
       "  <tbody>\n",
       "    <tr>\n",
       "      <th>NY</th>\n",
       "      <td>375.0</td>\n",
       "    </tr>\n",
       "    <tr>\n",
       "      <th>MO</th>\n",
       "      <td>177.0</td>\n",
       "    </tr>\n",
       "    <tr>\n",
       "      <th>CO</th>\n",
       "      <td>149.5</td>\n",
       "    </tr>\n",
       "    <tr>\n",
       "      <th>CT</th>\n",
       "      <td>136.0</td>\n",
       "    </tr>\n",
       "    <tr>\n",
       "      <th>FL</th>\n",
       "      <td>130.0</td>\n",
       "    </tr>\n",
       "    <tr>\n",
       "      <th>VA</th>\n",
       "      <td>116.0</td>\n",
       "    </tr>\n",
       "  </tbody>\n",
       "</table>\n",
       "</div>"
      ],
      "text/plain": [
       "          salary\n",
       "location        \n",
       "NY         375.0\n",
       "MO         177.0\n",
       "CO         149.5\n",
       "CT         136.0\n",
       "FL         130.0\n",
       "VA         116.0"
      ]
     },
     "execution_count": 10,
     "metadata": {},
     "output_type": "execute_result"
    }
   ],
   "source": [
    "df_loc = df[['location', 'salary']].groupby('location').median().sort_values(by=['salary'],ascending = False).head(6)\n",
    "df_loc"
   ]
  },
  {
   "cell_type": "code",
   "execution_count": 11,
   "id": "bab9499d",
   "metadata": {},
   "outputs": [
    {
     "data": {
      "text/plain": [
       "['MO', 'CO', 'CT', 'FL', 'VA']"
      ]
     },
     "execution_count": 11,
     "metadata": {},
     "output_type": "execute_result"
    }
   ],
   "source": [
    "list = [df_loc.index[1], df_loc.index[2], df_loc.index[3], df_loc.index[4], df_loc.index[5]]\n",
    "list"
   ]
  },
  {
   "cell_type": "code",
   "execution_count": 12,
   "id": "6a242b32",
   "metadata": {},
   "outputs": [
    {
     "name": "stderr",
     "output_type": "stream",
     "text": [
      "/Users/tixradmin/opt/anaconda3/lib/python3.9/site-packages/seaborn/distributions.py:316: UserWarning: Dataset has 0 variance; skipping density estimate. Pass `warn_singular=False` to disable this warning.\n",
      "  warnings.warn(msg, UserWarning)\n",
      "/Users/tixradmin/opt/anaconda3/lib/python3.9/site-packages/seaborn/distributions.py:316: UserWarning: Dataset has 0 variance; skipping density estimate. Pass `warn_singular=False` to disable this warning.\n",
      "  warnings.warn(msg, UserWarning)\n"
     ]
    },
    {
     "data": {
      "text/plain": [
       "[Text(0.5, 1.0, 'Data Scientist Salary by Location'),\n",
       " Text(0.5, 0, 'Salary(k)')]"
      ]
     },
     "execution_count": 12,
     "metadata": {},
     "output_type": "execute_result"
    },
    {
     "data": {
      "image/png": "[encoded data removed]",
      "text/plain": [
       "<Figure size 432x288 with 1 Axes>"
      ]
     },
     "metadata": {},
     "output_type": "display_data"
    }
   ],
   "source": [
    "df_new = df[df.location.isin(list)]\n",
    "sns.kdeplot(data = df_new[['salary','location']], x = \"salary\", hue = \"location\", fill = True, common_norm = False, alpha = 0.4).set(title=\"Data Scientist Salary by Location\",xlabel='Salary(k)')"
   ]
  },
  {
   "cell_type": "code",
   "execution_count": 85,
   "id": "cdf6c3e0",
   "metadata": {},
   "outputs": [
    {
     "data": {
      "text/plain": [
       "VA    6\n",
       "FL    4\n",
       "CO    4\n",
       "MO    3\n",
       "CT    2\n",
       "Name: location, dtype: int64"
      ]
     },
     "execution_count": 85,
     "metadata": {},
     "output_type": "execute_result"
    }
   ],
   "source": [
    "df_new['location'].value_counts()"
   ]
  },
  {
   "cell_type": "markdown",
   "id": "4ea948c6",
   "metadata": {},
   "source": [
    "### Most Common Skill"
   ]
  },
  {
   "cell_type": "code",
   "execution_count": 86,
   "id": "b0550619",
   "metadata": {},
   "outputs": [
    {
     "data": {
      "text/plain": [
       "R  Python  SQL\n",
       "1  1       1      39\n",
       "   0       0      22\n",
       "   1       0      12\n",
       "0  0       0       8\n",
       "1  0       1       4\n",
       "0  1       1       1\n",
       "dtype: int64"
      ]
     },
     "execution_count": 86,
     "metadata": {},
     "output_type": "execute_result"
    }
   ],
   "source": [
    "df[['R','Python','SQL']].value_counts()"
   ]
  },
  {
   "cell_type": "code",
   "execution_count": 87,
   "id": "0c42fb99",
   "metadata": {},
   "outputs": [
    {
     "data": {
      "text/plain": [
       "R         0.895349\n",
       "Python    0.604651\n",
       "SQL       0.511628\n",
       "dtype: float64"
      ]
     },
     "execution_count": 87,
     "metadata": {},
     "output_type": "execute_result"
    }
   ],
   "source": [
    "df[['R', 'Python', 'SQL']].sum(axis = 0) / df.shape[0]"
   ]
  },
  {
   "cell_type": "code",
   "execution_count": 92,
   "id": "31af4e25",
   "metadata": {},
   "outputs": [
    {
     "name": "stdout",
     "output_type": "stream",
     "text": [
      "       salary\n",
      "R            \n",
      "0  100.500000\n",
      "1  110.448052\n",
      "            salary\n",
      "Python            \n",
      "0        97.205882\n",
      "1       117.384615\n",
      "         salary\n",
      "SQL            \n",
      "0    109.880952\n",
      "1    108.954545\n"
     ]
    }
   ],
   "source": [
    "df_R = df[['R', 'salary']].groupby('R').mean()\n",
    "df_Py = df[['Python', 'salary']].groupby('Python').mean()\n",
    "df_Sql = df[['SQL', 'salary']].groupby('SQL').mean()\n",
    "print(df_R)\n",
    "print(df_Py)\n",
    "print(df_Sql) "
   ]
  }
 ],
 "metadata": {
  "kernelspec": {
   "display_name": "Python 3 (ipykernel)",
   "language": "python",
   "name": "python3"
  },
  "language_info": {
   "codemirror_mode": {
    "name": "ipython",
    "version": 3
   },
   "file_extension": ".py",
   "mimetype": "text/x-python",
   "name": "python",
   "nbconvert_exporter": "python",
   "pygments_lexer": "ipython3",
   "version": "3.9.12"
  }
 },
 "nbformat": 4,
 "nbformat_minor": 5
}
