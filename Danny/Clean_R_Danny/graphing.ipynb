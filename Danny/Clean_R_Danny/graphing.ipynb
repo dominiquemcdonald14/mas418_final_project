{
 "cells": [
  {
   "cell_type": "code",
   "execution_count": 20,
   "id": "a7b7c054",
   "metadata": {},
   "outputs": [],
   "source": [
    "%matplotlib inline\n",
    "import matplotlib\n",
    "import matplotlib.pyplot as plt\n",
    "import seaborn as sns\n",
    "import numpy as np\n",
    "import pandas as pd\n",
    "import statistics"
   ]
  },
  {
   "cell_type": "code",
   "execution_count": 24,
   "id": "3b757cf5",
   "metadata": {},
   "outputs": [
    {
     "data": {
      "text/html": [
       "<div>\n",
       "<style scoped>\n",
       "    .dataframe tbody tr th:only-of-type {\n",
       "        vertical-align: middle;\n",
       "    }\n",
       "\n",
       "    .dataframe tbody tr th {\n",
       "        vertical-align: top;\n",
       "    }\n",
       "\n",
       "    .dataframe thead th {\n",
       "        text-align: right;\n",
       "    }\n",
       "</style>\n",
       "<table border=\"1\" class=\"dataframe\">\n",
       "  <thead>\n",
       "    <tr style=\"text-align: right;\">\n",
       "      <th></th>\n",
       "      <th>Unnamed: 0</th>\n",
       "      <th>X</th>\n",
       "      <th>companyName</th>\n",
       "      <th>company_starRating</th>\n",
       "      <th>company_offeredRole</th>\n",
       "      <th>company_roleLocation</th>\n",
       "      <th>company_salary</th>\n",
       "      <th>listing_jobDesc</th>\n",
       "      <th>requested_url</th>\n",
       "      <th>salary</th>\n",
       "      <th>role</th>\n",
       "      <th>location</th>\n",
       "      <th>Python</th>\n",
       "      <th>SQL</th>\n",
       "      <th>Education</th>\n",
       "    </tr>\n",
       "  </thead>\n",
       "  <tbody>\n",
       "    <tr>\n",
       "      <th>0</th>\n",
       "      <td>1</td>\n",
       "      <td>1</td>\n",
       "      <td>American Family Insurance</td>\n",
       "      <td>3.2</td>\n",
       "      <td>Actuarial Data Scientist II - Personal Auto (H...</td>\n",
       "      <td>Madison, WI</td>\n",
       "      <td>Employer est.:$145K</td>\n",
       "      <td>At American Family Insurance, we believe peopl...</td>\n",
       "      <td>https://www.glassdoor.com/partner/jobListing.h...</td>\n",
       "      <td>145.0</td>\n",
       "      <td>Data Scientist</td>\n",
       "      <td>WI</td>\n",
       "      <td>0</td>\n",
       "      <td>0</td>\n",
       "      <td>Bachelor</td>\n",
       "    </tr>\n",
       "    <tr>\n",
       "      <th>1</th>\n",
       "      <td>2</td>\n",
       "      <td>2</td>\n",
       "      <td>Deloitte</td>\n",
       "      <td>4.1</td>\n",
       "      <td>Cloud Data Engineer</td>\n",
       "      <td>Rosslyn, VA</td>\n",
       "      <td>$88K - $128K (Glassdoor est.)</td>\n",
       "      <td>In this age of disruption, organizations need ...</td>\n",
       "      <td>https://www.glassdoor.com/partner/jobListing.h...</td>\n",
       "      <td>108.0</td>\n",
       "      <td>Data Engineer</td>\n",
       "      <td>VA</td>\n",
       "      <td>0</td>\n",
       "      <td>0</td>\n",
       "      <td>Bachelor</td>\n",
       "    </tr>\n",
       "    <tr>\n",
       "      <th>2</th>\n",
       "      <td>3</td>\n",
       "      <td>3</td>\n",
       "      <td>The Travelers Companies, Inc.</td>\n",
       "      <td>4.0</td>\n",
       "      <td>Cloud Data Engineer I - AWS, Python, Snowflake...</td>\n",
       "      <td>Hartford, CT</td>\n",
       "      <td>Employer est.:$103K - $169K</td>\n",
       "      <td>Who Are We?\\nTaking care of our customers, our...</td>\n",
       "      <td>https://www.glassdoor.com/partner/jobListing.h...</td>\n",
       "      <td>136.0</td>\n",
       "      <td>Data Engineer</td>\n",
       "      <td>CT</td>\n",
       "      <td>1</td>\n",
       "      <td>0</td>\n",
       "      <td>Bachelor</td>\n",
       "    </tr>\n",
       "    <tr>\n",
       "      <th>3</th>\n",
       "      <td>4</td>\n",
       "      <td>4</td>\n",
       "      <td>American Family Insurance</td>\n",
       "      <td>3.2</td>\n",
       "      <td>Business Analytics Manager II (Advanced Analyt...</td>\n",
       "      <td>Madison, WI</td>\n",
       "      <td>Employer est.:$111K</td>\n",
       "      <td>At American Family Insurance, we believe peopl...</td>\n",
       "      <td>https://www.glassdoor.com/partner/jobListing.h...</td>\n",
       "      <td>111.0</td>\n",
       "      <td>Data Analyst</td>\n",
       "      <td>WI</td>\n",
       "      <td>1</td>\n",
       "      <td>0</td>\n",
       "      <td>None</td>\n",
       "    </tr>\n",
       "    <tr>\n",
       "      <th>4</th>\n",
       "      <td>5</td>\n",
       "      <td>5</td>\n",
       "      <td>Medifast Inc</td>\n",
       "      <td>3.8</td>\n",
       "      <td>Director Engineering - Data Science &amp; BI</td>\n",
       "      <td>Baltimore, MD</td>\n",
       "      <td>$112K - $156K (Glassdoor est.)</td>\n",
       "      <td>About The OpportunityAt Medifast, our team mem...</td>\n",
       "      <td>https://www.glassdoor.com/partner/jobListing.h...</td>\n",
       "      <td>134.0</td>\n",
       "      <td>Data Scientist</td>\n",
       "      <td>MD</td>\n",
       "      <td>1</td>\n",
       "      <td>1</td>\n",
       "      <td>Master</td>\n",
       "    </tr>\n",
       "  </tbody>\n",
       "</table>\n",
       "</div>"
      ],
      "text/plain": [
       "   Unnamed: 0  X                    companyName  company_starRating  \\\n",
       "0           1  1      American Family Insurance                 3.2   \n",
       "1           2  2                       Deloitte                 4.1   \n",
       "2           3  3  The Travelers Companies, Inc.                 4.0   \n",
       "3           4  4      American Family Insurance                 3.2   \n",
       "4           5  5                   Medifast Inc                 3.8   \n",
       "\n",
       "                                 company_offeredRole company_roleLocation  \\\n",
       "0  Actuarial Data Scientist II - Personal Auto (H...          Madison, WI   \n",
       "1                                Cloud Data Engineer          Rosslyn, VA   \n",
       "2  Cloud Data Engineer I - AWS, Python, Snowflake...         Hartford, CT   \n",
       "3  Business Analytics Manager II (Advanced Analyt...          Madison, WI   \n",
       "4           Director Engineering - Data Science & BI        Baltimore, MD   \n",
       "\n",
       "                   company_salary  \\\n",
       "0            Employer est.:$145K    \n",
       "1   $88K - $128K (Glassdoor est.)   \n",
       "2    Employer est.:$103K - $169K    \n",
       "3            Employer est.:$111K    \n",
       "4  $112K - $156K (Glassdoor est.)   \n",
       "\n",
       "                                     listing_jobDesc  \\\n",
       "0  At American Family Insurance, we believe peopl...   \n",
       "1  In this age of disruption, organizations need ...   \n",
       "2  Who Are We?\\nTaking care of our customers, our...   \n",
       "3  At American Family Insurance, we believe peopl...   \n",
       "4  About The OpportunityAt Medifast, our team mem...   \n",
       "\n",
       "                                       requested_url  salary            role  \\\n",
       "0  https://www.glassdoor.com/partner/jobListing.h...   145.0  Data Scientist   \n",
       "1  https://www.glassdoor.com/partner/jobListing.h...   108.0   Data Engineer   \n",
       "2  https://www.glassdoor.com/partner/jobListing.h...   136.0   Data Engineer   \n",
       "3  https://www.glassdoor.com/partner/jobListing.h...   111.0    Data Analyst   \n",
       "4  https://www.glassdoor.com/partner/jobListing.h...   134.0  Data Scientist   \n",
       "\n",
       "  location  Python  SQL Education  \n",
       "0       WI       0    0  Bachelor  \n",
       "1       VA       0    0  Bachelor  \n",
       "2       CT       1    0  Bachelor  \n",
       "3       WI       1    0      None  \n",
       "4       MD       1    1    Master  "
      ]
     },
     "execution_count": 24,
     "metadata": {},
     "output_type": "execute_result"
    }
   ],
   "source": [
    "df = pd.read_csv('salary.csv', encoding= 'unicode_escape')\n",
    "df.head()"
   ]
  },
  {
   "cell_type": "code",
   "execution_count": 25,
   "id": "29e0da51",
   "metadata": {},
   "outputs": [],
   "source": [
    "data = df['salary']"
   ]
  },
  {
   "cell_type": "code",
   "execution_count": 26,
   "id": "bf1a875a",
   "metadata": {},
   "outputs": [
    {
     "data": {
      "text/plain": [
       "[Text(0.5, 1.0, 'Data Scientist Salary Density'), Text(0.5, 0, 'Salary(k)')]"
      ]
     },
     "execution_count": 26,
     "metadata": {},
     "output_type": "execute_result"
    },
    {
     "data": {
      "image/png": "[encoded data removed]",
      "text/plain": [
       "<Figure size 432x288 with 1 Axes>"
      ]
     },
     "metadata": {},
     "output_type": "display_data"
    }
   ],
   "source": [
    "sns.set_style('whitegrid')\n",
    "sns.kdeplot(np.array(data), bw_method=0.5).set(title=\"Data Scientist Salary Density\",xlabel='Salary(k)')"
   ]
  },
  {
   "cell_type": "code",
   "execution_count": 27,
   "id": "8e7f457c",
   "metadata": {},
   "outputs": [
    {
     "data": {
      "text/plain": [
       "112.5"
      ]
     },
     "execution_count": 27,
     "metadata": {},
     "output_type": "execute_result"
    }
   ],
   "source": [
    "statistics.median(data) # Note that it's k"
   ]
  },
  {
   "cell_type": "markdown",
   "id": "c9eae6a9",
   "metadata": {},
   "source": [
    "### Median Salary by Job Title\n",
    "\n",
    "Should display a dataframe and a graph."
   ]
  },
  {
   "cell_type": "code",
   "execution_count": 28,
   "id": "785f2521",
   "metadata": {},
   "outputs": [
    {
     "data": {
      "text/html": [
       "<div>\n",
       "<style scoped>\n",
       "    .dataframe tbody tr th:only-of-type {\n",
       "        vertical-align: middle;\n",
       "    }\n",
       "\n",
       "    .dataframe tbody tr th {\n",
       "        vertical-align: top;\n",
       "    }\n",
       "\n",
       "    .dataframe thead th {\n",
       "        text-align: right;\n",
       "    }\n",
       "</style>\n",
       "<table border=\"1\" class=\"dataframe\">\n",
       "  <thead>\n",
       "    <tr style=\"text-align: right;\">\n",
       "      <th></th>\n",
       "      <th>salary</th>\n",
       "    </tr>\n",
       "    <tr>\n",
       "      <th>role</th>\n",
       "      <th></th>\n",
       "    </tr>\n",
       "  </thead>\n",
       "  <tbody>\n",
       "    <tr>\n",
       "      <th>Data Analyst</th>\n",
       "      <td>74.5</td>\n",
       "    </tr>\n",
       "    <tr>\n",
       "      <th>Data Engineer</th>\n",
       "      <td>119.5</td>\n",
       "    </tr>\n",
       "    <tr>\n",
       "      <th>Data Scientist</th>\n",
       "      <td>115.0</td>\n",
       "    </tr>\n",
       "    <tr>\n",
       "      <th>Machine Learning</th>\n",
       "      <td>130.0</td>\n",
       "    </tr>\n",
       "    <tr>\n",
       "      <th>Others</th>\n",
       "      <td>125.0</td>\n",
       "    </tr>\n",
       "  </tbody>\n",
       "</table>\n",
       "</div>"
      ],
      "text/plain": [
       "                  salary\n",
       "role                    \n",
       "Data Analyst        74.5\n",
       "Data Engineer      119.5\n",
       "Data Scientist     115.0\n",
       "Machine Learning   130.0\n",
       "Others             125.0"
      ]
     },
     "execution_count": 28,
     "metadata": {},
     "output_type": "execute_result"
    }
   ],
   "source": [
    "# Medium Salary by Role\n",
    "df[['salary','role']].groupby('role').median()"
   ]
  },
  {
   "cell_type": "code",
   "execution_count": 29,
   "id": "502ea55a",
   "metadata": {},
   "outputs": [
    {
     "data": {
      "text/plain": [
       "[Text(0.5, 1.0, 'Data Scientist Salary by Role'), Text(0.5, 0, 'Salary(k)')]"
      ]
     },
     "execution_count": 29,
     "metadata": {},
     "output_type": "execute_result"
    },
    {
     "data": {
      "image/png": "[encoded data removed]",
      "text/plain": [
       "<Figure size 432x288 with 1 Axes>"
      ]
     },
     "metadata": {},
     "output_type": "display_data"
    }
   ],
   "source": [
    "sns.kdeplot(data = df[['salary','role']], x = \"salary\", hue = \"role\", fill = True, common_norm = False, alpha = 0.4).set(title=\"Data Scientist Salary by Role\",xlabel='Salary(k)')"
   ]
  },
  {
   "cell_type": "markdown",
   "id": "d3af600f",
   "metadata": {},
   "source": [
    "### Median Salary by Location\n",
    "\n",
    "Top 5 highest paid location"
   ]
  },
  {
   "cell_type": "code",
   "execution_count": 35,
   "id": "3433b1dc",
   "metadata": {},
   "outputs": [
    {
     "data": {
      "text/html": [
       "<div>\n",
       "<style scoped>\n",
       "    .dataframe tbody tr th:only-of-type {\n",
       "        vertical-align: middle;\n",
       "    }\n",
       "\n",
       "    .dataframe tbody tr th {\n",
       "        vertical-align: top;\n",
       "    }\n",
       "\n",
       "    .dataframe thead th {\n",
       "        text-align: right;\n",
       "    }\n",
       "</style>\n",
       "<table border=\"1\" class=\"dataframe\">\n",
       "  <thead>\n",
       "    <tr style=\"text-align: right;\">\n",
       "      <th></th>\n",
       "      <th>salary</th>\n",
       "    </tr>\n",
       "    <tr>\n",
       "      <th>location</th>\n",
       "      <th></th>\n",
       "    </tr>\n",
       "  </thead>\n",
       "  <tbody>\n",
       "    <tr>\n",
       "      <th>CT</th>\n",
       "      <td>149.75</td>\n",
       "    </tr>\n",
       "    <tr>\n",
       "      <th>CO</th>\n",
       "      <td>149.50</td>\n",
       "    </tr>\n",
       "    <tr>\n",
       "      <th>UT</th>\n",
       "      <td>140.25</td>\n",
       "    </tr>\n",
       "    <tr>\n",
       "      <th>MI</th>\n",
       "      <td>133.75</td>\n",
       "    </tr>\n",
       "    <tr>\n",
       "      <th>MO</th>\n",
       "      <td>132.00</td>\n",
       "    </tr>\n",
       "    <tr>\n",
       "      <th>DC</th>\n",
       "      <td>130.25</td>\n",
       "    </tr>\n",
       "  </tbody>\n",
       "</table>\n",
       "</div>"
      ],
      "text/plain": [
       "          salary\n",
       "location        \n",
       "CT        149.75\n",
       "CO        149.50\n",
       "UT        140.25\n",
       "MI        133.75\n",
       "MO        132.00\n",
       "DC        130.25"
      ]
     },
     "execution_count": 35,
     "metadata": {},
     "output_type": "execute_result"
    }
   ],
   "source": [
    "df_loc = df[['location', 'salary']].groupby('location').median().sort_values(by=['salary'],ascending = False).head(6)\n",
    "df_loc"
   ]
  },
  {
   "cell_type": "code",
   "execution_count": 36,
   "id": "bab9499d",
   "metadata": {},
   "outputs": [
    {
     "data": {
      "text/plain": [
       "['CT', 'CO', 'UT', 'MI', 'MO']"
      ]
     },
     "execution_count": 36,
     "metadata": {},
     "output_type": "execute_result"
    }
   ],
   "source": [
    "list = [df_loc.index[0], df_loc.index[1], df_loc.index[2], df_loc.index[3], df_loc.index[4]]\n",
    "list"
   ]
  },
  {
   "cell_type": "code",
   "execution_count": 37,
   "id": "6a242b32",
   "metadata": {},
   "outputs": [
    {
     "name": "stderr",
     "output_type": "stream",
     "text": [
      "/Users/tixradmin/opt/anaconda3/lib/python3.9/site-packages/seaborn/distributions.py:316: UserWarning: Dataset has 0 variance; skipping density estimate. Pass `warn_singular=False` to disable this warning.\n",
      "  warnings.warn(msg, UserWarning)\n"
     ]
    },
    {
     "data": {
      "text/plain": [
       "[Text(0.5, 1.0, 'Data Scientist Salary by Location'),\n",
       " Text(0.5, 0, 'Salary(k)')]"
      ]
     },
     "execution_count": 37,
     "metadata": {},
     "output_type": "execute_result"
    },
    {
     "data": {
      "image/png": "[encoded data removed]",
      "text/plain": [
       "<Figure size 432x288 with 1 Axes>"
      ]
     },
     "metadata": {},
     "output_type": "display_data"
    }
   ],
   "source": [
    "df_new = df[df.location.isin(list)]\n",
    "sns.kdeplot(data = df_new[['salary','location']], x = \"salary\", hue = \"location\", fill = True, common_norm = False, alpha = 0.4).set(title=\"Data Scientist Salary by Location\",xlabel='Salary(k)')"
   ]
  },
  {
   "cell_type": "code",
   "execution_count": 38,
   "id": "cdf6c3e0",
   "metadata": {},
   "outputs": [
    {
     "data": {
      "text/plain": [
       "CT    6\n",
       "CO    2\n",
       "MO    2\n",
       "UT    2\n",
       "MI    2\n",
       "Name: location, dtype: int64"
      ]
     },
     "execution_count": 38,
     "metadata": {},
     "output_type": "execute_result"
    }
   ],
   "source": [
    "df_new['location'].value_counts()"
   ]
  },
  {
   "cell_type": "markdown",
   "id": "4ea948c6",
   "metadata": {},
   "source": [
    "### Most Common Skill"
   ]
  },
  {
   "cell_type": "code",
   "execution_count": 39,
   "id": "b0550619",
   "metadata": {},
   "outputs": [
    {
     "data": {
      "text/plain": [
       "Python  SQL\n",
       "1       1      36\n",
       "0       0      23\n",
       "1       0      16\n",
       "0       1       8\n",
       "dtype: int64"
      ]
     },
     "execution_count": 39,
     "metadata": {},
     "output_type": "execute_result"
    }
   ],
   "source": [
    "df[['Python','SQL']].value_counts()"
   ]
  },
  {
   "cell_type": "code",
   "execution_count": 40,
   "id": "0c42fb99",
   "metadata": {},
   "outputs": [
    {
     "data": {
      "text/plain": [
       "Python    0.626506\n",
       "SQL       0.530120\n",
       "dtype: float64"
      ]
     },
     "execution_count": 40,
     "metadata": {},
     "output_type": "execute_result"
    }
   ],
   "source": [
    "df[['Python', 'SQL']].sum(axis = 0) / df.shape[0]"
   ]
  },
  {
   "cell_type": "code",
   "execution_count": 41,
   "id": "31af4e25",
   "metadata": {},
   "outputs": [
    {
     "name": "stdout",
     "output_type": "stream",
     "text": [
      "                salary\n",
      "Python SQL            \n",
      "0      0    111.524348\n",
      "       1    145.312500\n",
      "1      0    101.781250\n",
      "       1    117.541667\n",
      "         salary\n",
      "SQL            \n",
      "0    107.527179\n",
      "1    122.590909\n"
     ]
    }
   ],
   "source": [
    "#df_R = df[['R', 'salary']].groupby('R').mean()\n",
    "df_Py = df[['Python', 'SQL', 'salary']].groupby(['Python','SQL']).mean()\n",
    "df_Sql = df[['SQL', 'salary']].groupby('SQL').mean()\n",
    "#print(df_R)\n",
    "print(df_Py)\n",
    "print(df_Sql) "
   ]
  },
  {
   "cell_type": "code",
   "execution_count": 42,
   "id": "57d701d6",
   "metadata": {},
   "outputs": [
    {
     "data": {
      "text/html": [
       "<div>\n",
       "<style scoped>\n",
       "    .dataframe tbody tr th:only-of-type {\n",
       "        vertical-align: middle;\n",
       "    }\n",
       "\n",
       "    .dataframe tbody tr th {\n",
       "        vertical-align: top;\n",
       "    }\n",
       "\n",
       "    .dataframe thead th {\n",
       "        text-align: right;\n",
       "    }\n",
       "</style>\n",
       "<table border=\"1\" class=\"dataframe\">\n",
       "  <thead>\n",
       "    <tr style=\"text-align: right;\">\n",
       "      <th></th>\n",
       "      <th>Python</th>\n",
       "      <th>SQL</th>\n",
       "      <th>salary</th>\n",
       "    </tr>\n",
       "  </thead>\n",
       "  <tbody>\n",
       "    <tr>\n",
       "      <th>0</th>\n",
       "      <td>0</td>\n",
       "      <td>0</td>\n",
       "      <td>145.0</td>\n",
       "    </tr>\n",
       "    <tr>\n",
       "      <th>1</th>\n",
       "      <td>0</td>\n",
       "      <td>0</td>\n",
       "      <td>108.0</td>\n",
       "    </tr>\n",
       "    <tr>\n",
       "      <th>2</th>\n",
       "      <td>1</td>\n",
       "      <td>0</td>\n",
       "      <td>136.0</td>\n",
       "    </tr>\n",
       "    <tr>\n",
       "      <th>3</th>\n",
       "      <td>1</td>\n",
       "      <td>0</td>\n",
       "      <td>111.0</td>\n",
       "    </tr>\n",
       "    <tr>\n",
       "      <th>4</th>\n",
       "      <td>1</td>\n",
       "      <td>1</td>\n",
       "      <td>134.0</td>\n",
       "    </tr>\n",
       "    <tr>\n",
       "      <th>...</th>\n",
       "      <td>...</td>\n",
       "      <td>...</td>\n",
       "      <td>...</td>\n",
       "    </tr>\n",
       "    <tr>\n",
       "      <th>78</th>\n",
       "      <td>0</td>\n",
       "      <td>0</td>\n",
       "      <td>101.0</td>\n",
       "    </tr>\n",
       "    <tr>\n",
       "      <th>79</th>\n",
       "      <td>1</td>\n",
       "      <td>1</td>\n",
       "      <td>119.5</td>\n",
       "    </tr>\n",
       "    <tr>\n",
       "      <th>80</th>\n",
       "      <td>0</td>\n",
       "      <td>1</td>\n",
       "      <td>148.5</td>\n",
       "    </tr>\n",
       "    <tr>\n",
       "      <th>81</th>\n",
       "      <td>0</td>\n",
       "      <td>0</td>\n",
       "      <td>140.5</td>\n",
       "    </tr>\n",
       "    <tr>\n",
       "      <th>82</th>\n",
       "      <td>1</td>\n",
       "      <td>0</td>\n",
       "      <td>93.0</td>\n",
       "    </tr>\n",
       "  </tbody>\n",
       "</table>\n",
       "<p>83 rows × 3 columns</p>\n",
       "</div>"
      ],
      "text/plain": [
       "    Python  SQL  salary\n",
       "0        0    0   145.0\n",
       "1        0    0   108.0\n",
       "2        1    0   136.0\n",
       "3        1    0   111.0\n",
       "4        1    1   134.0\n",
       "..     ...  ...     ...\n",
       "78       0    0   101.0\n",
       "79       1    1   119.5\n",
       "80       0    1   148.5\n",
       "81       0    0   140.5\n",
       "82       1    0    93.0\n",
       "\n",
       "[83 rows x 3 columns]"
      ]
     },
     "execution_count": 42,
     "metadata": {},
     "output_type": "execute_result"
    }
   ],
   "source": [
    "df[['Python', 'SQL', 'salary']]"
   ]
  },
  {
   "cell_type": "markdown",
   "id": "3be3342e",
   "metadata": {},
   "source": [
    "### By Education"
   ]
  },
  {
   "cell_type": "code",
   "execution_count": 43,
   "id": "62223284",
   "metadata": {},
   "outputs": [
    {
     "data": {
      "text/html": [
       "<div>\n",
       "<style scoped>\n",
       "    .dataframe tbody tr th:only-of-type {\n",
       "        vertical-align: middle;\n",
       "    }\n",
       "\n",
       "    .dataframe tbody tr th {\n",
       "        vertical-align: top;\n",
       "    }\n",
       "\n",
       "    .dataframe thead th {\n",
       "        text-align: right;\n",
       "    }\n",
       "</style>\n",
       "<table border=\"1\" class=\"dataframe\">\n",
       "  <thead>\n",
       "    <tr style=\"text-align: right;\">\n",
       "      <th></th>\n",
       "      <th>salary</th>\n",
       "    </tr>\n",
       "    <tr>\n",
       "      <th>Education</th>\n",
       "      <th></th>\n",
       "    </tr>\n",
       "  </thead>\n",
       "  <tbody>\n",
       "    <tr>\n",
       "      <th>Master</th>\n",
       "      <td>116.00</td>\n",
       "    </tr>\n",
       "    <tr>\n",
       "      <th>None</th>\n",
       "      <td>111.75</td>\n",
       "    </tr>\n",
       "    <tr>\n",
       "      <th>Bachelor</th>\n",
       "      <td>111.00</td>\n",
       "    </tr>\n",
       "  </tbody>\n",
       "</table>\n",
       "</div>"
      ],
      "text/plain": [
       "           salary\n",
       "Education        \n",
       "Master     116.00\n",
       "None       111.75\n",
       "Bachelor   111.00"
      ]
     },
     "execution_count": 43,
     "metadata": {},
     "output_type": "execute_result"
    }
   ],
   "source": [
    "df_ed = df[['Education', 'salary']].groupby('Education').median().sort_values(by=['salary'],ascending = False).head(6)\n",
    "df_ed"
   ]
  }
 ],
 "metadata": {
  "kernelspec": {
   "display_name": "Python 3 (ipykernel)",
   "language": "python",
   "name": "python3"
  },
  "language_info": {
   "codemirror_mode": {
    "name": "ipython",
    "version": 3
   },
   "file_extension": ".py",
   "mimetype": "text/x-python",
   "name": "python",
   "nbconvert_exporter": "python",
   "pygments_lexer": "ipython3",
   "version": "3.9.12"
  }
 },
 "nbformat": 4,
 "nbformat_minor": 5
}
